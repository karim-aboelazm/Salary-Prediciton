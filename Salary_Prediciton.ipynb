{
  "nbformat": 4,
  "nbformat_minor": 0,
  "metadata": {
    "colab": {
      "private_outputs": true,
      "provenance": [],
      "authorship_tag": "ABX9TyOJQlAZa9bDbiiQDKJwB+c5",
      "include_colab_link": true
    },
    "kernelspec": {
      "name": "python3",
      "display_name": "Python 3"
    },
    "language_info": {
      "name": "python"
    },
    "accelerator": "GPU",
    "gpuClass": "standard"
  },
  "cells": [
    {
      "cell_type": "markdown",
      "metadata": {
        "id": "view-in-github",
        "colab_type": "text"
      },
      "source": [
        "<a href=\"https://colab.research.google.com/github/karim-aboelazm/Salary-Prediciton/blob/my-branch/Salary_Prediciton.ipynb\" target=\"_parent\"><img src=\"https://colab.research.google.com/assets/colab-badge.svg\" alt=\"Open In Colab\"/></a>"
      ]
    },
    {
      "cell_type": "markdown",
      "source": [
        "# Salary-Prediciton-based-on-Years-of-Experience (Using Machine Learning )\n",
        "\n",
        "Prediction of salary based on the years of experience using Simple Linear Regression\n",
        "\n",
        "--------\n",
        "## Import All Libraries We Will Need To Create Our Model.."
      ],
      "metadata": {
        "id": "qVJ1GcYnLMfP"
      }
    },
    {
      "cell_type": "code",
      "execution_count": null,
      "metadata": {
        "id": "0y0RlDy6JAdC"
      },
      "outputs": [],
      "source": [
        "import numpy as np\n",
        "import pandas as pd\n",
        "import matplotlib.pyplot as plt\n",
        "from sklearn.linear_model import LinearRegression\n",
        "from sklearn.model_selection import train_test_split"
      ]
    },
    {
      "cell_type": "markdown",
      "source": [
        "## Getting Data Set in `.csv` file\n",
        "*  To read data set we use `read_csv()` function from `pandas` Library"
      ],
      "metadata": {
        "id": "StynyRALMAj-"
      }
    },
    {
      "cell_type": "code",
      "source": [
        "dataset = pd.read_csv(\"/content/Salary_Data.csv\")"
      ],
      "metadata": {
        "id": "2hgz2QE-JQt9"
      },
      "execution_count": null,
      "outputs": []
    },
    {
      "cell_type": "markdown",
      "source": [
        "## Display The Head Of Data \n",
        "* To show the head of data we use `.head()` from `pandasDataFrame`"
      ],
      "metadata": {
        "id": "vf27aECYMU1N"
      }
    },
    {
      "cell_type": "code",
      "source": [
        "dataset.head()"
      ],
      "metadata": {
        "id": "FtRimCGvJg7w"
      },
      "execution_count": null,
      "outputs": []
    },
    {
      "cell_type": "markdown",
      "source": [
        "## Getting all dataset information \n",
        "* To get all information we use `.info()` function from `pandasDataFrame`"
      ],
      "metadata": {
        "id": "niaSC4vqMrJC"
      }
    },
    {
      "cell_type": "code",
      "source": [
        "dataset.info()"
      ],
      "metadata": {
        "id": "62jkChNbLA5z"
      },
      "execution_count": null,
      "outputs": []
    },
    {
      "cell_type": "markdown",
      "source": [
        "## Get all statistical values in data \n",
        "* To get all statistical values we use `.describe()` function from `pandasDataFrame`"
      ],
      "metadata": {
        "id": "XbXwpUdcM_KI"
      }
    },
    {
      "cell_type": "code",
      "source": [
        "dataset.describe()"
      ],
      "metadata": {
        "id": "w1lXnE-OLGX4"
      },
      "execution_count": null,
      "outputs": []
    },
    {
      "cell_type": "markdown",
      "source": [
        "## Split dataset to dependant and independant data \n",
        "* To split dataset we use `.iloc[row_range,col_range]` function from `pandasDataFrame`"
      ],
      "metadata": {
        "id": "9pClv0w9NcI_"
      }
    },
    {
      "cell_type": "code",
      "source": [
        "x = dataset.iloc[:, :-1].values\n",
        "y = dataset.iloc[:, 1].values"
      ],
      "metadata": {
        "id": "lHTIIiirJ6ME"
      },
      "execution_count": null,
      "outputs": []
    },
    {
      "cell_type": "markdown",
      "source": [
        "## Split dependant and independant data into training set and testing set \n",
        "* To split data into training and testing set we use `train_test_split()` function from `sklearn.model_selection`"
      ],
      "metadata": {
        "id": "22aA86MHN1-v"
      }
    },
    {
      "cell_type": "code",
      "source": [
        "x_train, x_test, y_train, y_test = train_test_split(x, y, test_size = 0.2, random_state = 0)"
      ],
      "metadata": {
        "id": "2R6ScIqnJ6wp"
      },
      "execution_count": null,
      "outputs": []
    },
    {
      "cell_type": "markdown",
      "source": [
        "## Using Linear Regression Model \n",
        "* To use linear regression model we use `LinearRegression()` model from `sklearn.linear_model` "
      ],
      "metadata": {
        "id": "n-Q5hgOcOTJb"
      }
    },
    {
      "cell_type": "code",
      "source": [
        "model = LinearRegression()"
      ],
      "metadata": {
        "id": "r96jB3iTKG3w"
      },
      "execution_count": null,
      "outputs": []
    },
    {
      "cell_type": "markdown",
      "source": [
        "## Train Our Model\n",
        "* To train the model we use `.fit()` function from `sklearn.linear_model.LinearRegression` "
      ],
      "metadata": {
        "id": "op8kyE43OtHV"
      }
    },
    {
      "cell_type": "code",
      "source": [
        "model.fit(x_train, y_train)"
      ],
      "metadata": {
        "id": "dolexmxtOQJp"
      },
      "execution_count": null,
      "outputs": []
    },
    {
      "cell_type": "markdown",
      "source": [
        "## Make prediction for test data ✈ (Predict Salary Based On Years Of Experience)\n",
        "* To make prediction we use `.predict()` from `sklearn.linear_model.LinearRegression` "
      ],
      "metadata": {
        "id": "ccYPq9RJPD-e"
      }
    },
    {
      "cell_type": "code",
      "source": [
        "y_pred = model.predict(x_test)\n",
        "y_pred"
      ],
      "metadata": {
        "id": "i1c7pHFvKNFC"
      },
      "execution_count": null,
      "outputs": []
    },
    {
      "cell_type": "markdown",
      "source": [
        "## Make Prediction For New Value "
      ],
      "metadata": {
        "id": "k2XSTJ6XP_W1"
      }
    },
    {
      "cell_type": "code",
      "source": [
        "predict_new_val = model.predict([[12]])\n",
        "predict_new_val[0]"
      ],
      "metadata": {
        "id": "xVZpRsuyQL56"
      },
      "execution_count": null,
      "outputs": []
    },
    {
      "cell_type": "markdown",
      "source": [
        "## Getting Model Score In Train and Test \n",
        "* To get score we use `.score()` from `sklearn.linear_model.LinearRegression`"
      ],
      "metadata": {
        "id": "ZaQK0cPfRFfY"
      }
    },
    {
      "cell_type": "code",
      "source": [
        "model_train_score = model.score(x_train,y_train)\n",
        "model_test_score  = model.score(x_test,y_test)\n",
        "print(f\"Trainig Score = {np.round(model_train_score*100,2)} %\")\n",
        "print(f\"Testing Score = {np.round(model_test_score*100,2)} %\")"
      ],
      "metadata": {
        "id": "1BoJSyZwRVNn"
      },
      "execution_count": null,
      "outputs": []
    },
    {
      "cell_type": "markdown",
      "source": [
        "## Make Visualization \n",
        "1. The Relationship between X_train and Y_train\n",
        "2. The Relationship between X_train and prediction of X_train\n"
      ],
      "metadata": {
        "id": "SyCJHX6HQiR6"
      }
    },
    {
      "cell_type": "code",
      "source": [
        "plt.scatter(x_train, y_train, color = 'red')\n",
        "plt.plot(x_train, model.predict(x_train), color = 'blue')\n",
        "plt.title('Salary vs Experience (Training set)')\n",
        "plt.xlabel('Years of Experience')\n",
        "plt.ylabel('Salary')\n",
        "plt.show()"
      ],
      "metadata": {
        "id": "PYdZ6ny-KYsi"
      },
      "execution_count": null,
      "outputs": []
    },
    {
      "cell_type": "markdown",
      "source": [
        "## Make Visualization \n",
        "1. The Relationship between X_test and Y_test\n",
        "2. The Relationship between X_test and prediction of X_test\n"
      ],
      "metadata": {
        "id": "5UF5WYitQ-QF"
      }
    },
    {
      "cell_type": "code",
      "source": [
        "plt.scatter(x_test, y_test, color = 'red')\n",
        "plt.plot(x_train, model.predict(x_train), color = 'blue')\n",
        "plt.title('Salary vs Experience (Test set)')\n",
        "plt.xlabel('Years of Experience')\n",
        "plt.ylabel('Salary')\n",
        "plt.show()"
      ],
      "metadata": {
        "id": "nosJ06LIKgEX"
      },
      "execution_count": null,
      "outputs": []
    }
  ]
}